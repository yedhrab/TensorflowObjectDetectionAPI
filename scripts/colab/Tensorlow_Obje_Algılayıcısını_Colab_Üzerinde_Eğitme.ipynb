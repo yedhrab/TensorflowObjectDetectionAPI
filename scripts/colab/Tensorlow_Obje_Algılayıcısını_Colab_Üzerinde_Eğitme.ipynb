{
  "nbformat": 4,
  "nbformat_minor": 0,
  "metadata": {
    "colab": {
      "name": " Tensorlow Obje Algılayıcısını Colab Üzerinde Eğitme.ipynb",
      "version": "0.3.2",
      "provenance": [],
      "private_outputs": true,
      "collapsed_sections": [
        "hinT_6GU1euN",
        "35DM0Z3yr68P",
        "eOrBLBfnsMye",
        "sqYCS-OhsXUb",
        "1z-T18i8Kmfm",
        "CSSYb76qPWiD",
        "0ZswBfsvl3R7",
        "U9h-26MnULzn",
        "liLd3U0ZVZiM",
        "yahMI3hhVeu1",
        "k6RQEzYdVhbd",
        "A-j_qZ801tsh"
      ],
      "toc_visible": true
    },
    "kernelspec": {
      "name": "python3",
      "display_name": "Python 3"
    },
    "accelerator": "GPU"
  },
  "cells": [
    {
      "cell_type": "markdown",
      "metadata": {
        "id": "G7sTx1TIY6cy",
        "colab_type": "text"
      },
      "source": [
        "# Tensorlow Obje Algılayıcısını Colab Üzerinde Eğitme\n",
        "\n",
        "Başlamadan önce, gerekli klasörlerinizi drive'a upload etmeniz ve isteğe bağlı kernel'ı sıfırlamanız  gerekmektedir.\n",
        "\n",
        "\n",
        "\n",
        "TODO: Resimleri rar dosyasında google'a al, csv, record gibi işlemleri buradan yap. Resmin değişmesi çok düşük ihtmaldir.\n",
        "\n",
        "TODO: Yapıyı düzenle."
      ]
    },
    {
      "cell_type": "markdown",
      "metadata": {
        "id": "hinT_6GU1euN",
        "colab_type": "text"
      },
      "source": [
        "## Gereksinimlerin Yüklenmesi\n",
        "\n",
        "Modellerin kullanılabilmesi için alttaki adımların **sırayla** yapılması gerekmektedir"
      ]
    },
    {
      "cell_type": "markdown",
      "metadata": {
        "id": "35DM0Z3yr68P",
        "colab_type": "text"
      },
      "source": [
        "### Tensorflow Modellerinin İndirilmesi"
      ]
    },
    {
      "cell_type": "code",
      "metadata": {
        "id": "H3cgnNLXr-RV",
        "colab_type": "code",
        "colab": {}
      },
      "source": [
        "!git clone https://github.com/tensorflow/models.git"
      ],
      "execution_count": 0,
      "outputs": []
    },
    {
      "cell_type": "markdown",
      "metadata": {
        "id": "eOrBLBfnsMye",
        "colab_type": "text"
      },
      "source": [
        "### Protobuf Derleyicisinin İndirilmesi"
      ]
    },
    {
      "cell_type": "code",
      "metadata": {
        "id": "sQ6f8OIlsSgW",
        "colab_type": "code",
        "colab": {}
      },
      "source": [
        "!apt-get install protobuf-compiler python-pil python-lxml"
      ],
      "execution_count": 0,
      "outputs": []
    },
    {
      "cell_type": "markdown",
      "metadata": {
        "id": "sqYCS-OhsXUb",
        "colab_type": "text"
      },
      "source": [
        "### Protobuf Dosyalarının Derlenmesi\n",
        "\n",
        "Proto dosyalarının olduğu dizine `%cd` ile gelmezsen hata vermektedir."
      ]
    },
    {
      "cell_type": "code",
      "metadata": {
        "id": "6Fp6U5V3sgqn",
        "colab_type": "code",
        "colab": {}
      },
      "source": [
        "%cd /content/models/research/\n",
        "!protoc object_detection/protos/*.proto --python_out=.\n",
        "%cd /content/"
      ],
      "execution_count": 0,
      "outputs": []
    },
    {
      "cell_type": "markdown",
      "metadata": {
        "id": "1z-T18i8Kmfm",
        "colab_type": "text"
      },
      "source": [
        "### Coco API kurulumu (İsteğe Bağlı)"
      ]
    },
    {
      "cell_type": "code",
      "metadata": {
        "id": "NomA8p0R1lkQ",
        "colab_type": "code",
        "colab": {}
      },
      "source": [
        "!git clone https://github.com/cocodataset/cocoapi.git\n",
        "%cd cocoapi/PythonAPI\n",
        "!make\n",
        "!cp -r pycocotools /content/models/research/\n",
        "%cd ../..\n",
        "!rm -rf cocoapi"
      ],
      "execution_count": 0,
      "outputs": []
    },
    {
      "cell_type": "markdown",
      "metadata": {
        "id": "oNUiN2hxYtCg",
        "colab_type": "text"
      },
      "source": [
        "###  Drive Dosyalarını Dosya Sistemine Bağlama"
      ]
    },
    {
      "cell_type": "code",
      "metadata": {
        "id": "FSidNmGG8CKa",
        "colab_type": "code",
        "colab": {}
      },
      "source": [
        "from google.colab import drive\n",
        "drive.mount('/content/gdrive')"
      ],
      "execution_count": 0,
      "outputs": []
    },
    {
      "cell_type": "markdown",
      "metadata": {
        "id": "VFlGlXjfUq2I",
        "colab_type": "text"
      },
      "source": [
        "## Obje Algılama Modelinin Kullanılması\n",
        "\n"
      ]
    },
    {
      "cell_type": "markdown",
      "metadata": {
        "id": "UpO4oqtUPtTa",
        "colab_type": "text"
      },
      "source": [
        "### Obje Algılama Modeli Üzerinde İşlemler"
      ]
    },
    {
      "cell_type": "code",
      "metadata": {
        "id": "SV-l0ssURYH2",
        "colab_type": "code",
        "colab": {}
      },
      "source": [
        "#@title Modeli Eğitme Aracı { display-mode: \"form\" }\n",
        "\n",
        "MODEL_DIZINI = \"content/gdrive/My Drive/Sim Model\" #@param {type:\"string\"}\n",
        "EGITIM_SCRIPTI = \"train\" #@param [\"model_main\", \"train\"]\n",
        "MODELIN_CIKTI_DIZINI_YOLU = \"content/gdrive/My Drive/Sim Model/training\" #@param {type:\"string\"}\n",
        "EGITIM_ADIM_SAYISI = 20000 #@param {type:\"slider\", min:100, max:20000, step:100}\n",
        "YAPILANDIRMA_DOSYASI_YOLU = \"content/gdrive/My Drive/Sim Model/configs/custom_ssdlite_mobilenet_v2_coco.config\" #@param {type:\"string\"}\n",
        "temiz_egitim = False #@param {type:\"boolean\"}\n",
        "logdir = True #@param {type:\"boolean\"}\n",
        "#@markdown <p><strong>Model Dizinine Erişim</strong></p><ul><li>Sol üst köşedeki <code>CO</code>simgesinin altındaki <code>&gt;</code>simgesine tıklayın</li><li><code>Files</code> sekmesine gelin</li><li>Scriptinizin olduğu klasörü bulun</li><li>Klasöre sağ tıklayıp <code>Copy Path</code> deyip, ilgili alana yapıştırın</li></ul>\n",
        "#@markdown *Eğitim adım sayısı **sadece** 'model_main' dosyasında çalışmaktadır.*\n",
        "\n",
        "# Ortam Değişkenlerini ayarlama\n",
        "%env PYTHONPATH=/env/python:/content/models/research:/content/models/research/slim:/content/models/research/object_detection\n",
        "# %env PYTHONPATH=$PYTHONPATH:/content/models/research:/content/models/research/slim:/content/models/research/object_detection\n",
        "\n",
        "%cd '/{MODEL_DIZINI}'\n",
        "\n",
        "if temiz_egitim:\n",
        "  !rm -rf '/{MODELIN_CIKTI_DIZINI_YOLU}'\n",
        "  print(\"Egitim dizini temizlendi.\")\n",
        "\n",
        "if EGITIM_SCRIPTI == \"model_main\":\n",
        "  !python 'model_main.py' \\\n",
        "      --pipeline_config_path='/{YAPILANDIRMA_DOSYASI_YOLU}' \\\n",
        "      --model_dir='/{MODELIN_CIKTI_DIZINI_YOLU}' \\\n",
        "      --num_train_steps={EGITIM_ADIM_SAYISI} \\\n",
        "      --sample_1_of_n_eval_examples=1 \\\n",
        "      {'--alsologtostderr' if logdir else ''}\n",
        "else:\n",
        "  !python 'train.py' \\\n",
        "      --train_dir=\"/{MODELIN_CIKTI_DIZINI_YOLU}\" \\\n",
        "      --pipeline_config_path=\"/{YAPILANDIRMA_DOSYASI_YOLU}\" \\\n",
        "      {'--logtostderr' if logdir else ''}\n",
        "\n",
        "%cd /content"
      ],
      "execution_count": 0,
      "outputs": []
    },
    {
      "cell_type": "code",
      "metadata": {
        "id": "7HWskuVViItx",
        "colab_type": "code",
        "colab": {}
      },
      "source": [
        "#@title Sonuç Grafiğini Çıkarma Aracı { display-mode: \"form\" }\n",
        "SCRIPT_DIZINI = \"content/gdrive/My Drive/Sim Model\" #@param {type:\"string\"}\n",
        "YAPILANDIRMA_DOSYASI_YOLU = \"configs/custom_ssdlite_mobilenet_v2_coco.config\" #@param {type:\"string\"}\n",
        "MODEL_DOSYASI_DIZINI = \"training\" #@param {type:\"string\"}\n",
        "KONTROL_NOKTASI_ON_EKI = 8469 #@param {type:\"integer\"}\n",
        "CIKTI_DIZINI = \"inference_graph\" #@param {type:\"string\"}\n",
        "TEMIZ_CIKTI = True #@param {type:\"boolean\"}\n",
        "# SONRAKI_EGITIME_HAZIRLA = False #@param {type:\"boolean\"}\n",
        "#@markdown <p><strong>Script Yoluna Erişim</strong></p><ul><li>Sol üst köşedeki <code>CO</code>simgesinin altındaki <code>&gt;</code>simgesine tıklayın</li><li><code>Files</code> sekmesine gelin</li><li>Scriptinizin olduğu klasörü bulun</li><li>Klasöre sağ tıklayıp <code>Copy Path</code> deyip, ilgili alana yapıştırın</li></ul>\n",
        "# #@markdown <p><strong>Bayrak Tanımlamaları</strong></p><ul><li><code>TEMIZ_CIKTI</code> Eskisini siler</li><li><code>SONRAKI_EGITIME_HAZIRLA</code> Modeli ek dosya yerine pre_trained_model üzerine yazar</li></ul>\n",
        "\n",
        "# Ortam Değişkenlerini ayarlama\n",
        "%env PYTHONPATH=/env/python:/content/models/research:/content/models/research/slim:/content/models/research/object_detection\n",
        "# %env PYTHONPATH=$PYTHONPATH:/content/models/research:/content/models/research/slim:/content/models/research/object_detection\n",
        "\n",
        "%cd \"/{SCRIPT_DIZINI}\"\n",
        "\n",
        "if TEMIZ_CIKTI:\n",
        "  !rm -rf \"{CIKTI_DIZINI}\"\n",
        "\n",
        "!python export_inference_graph.py --input_type image_tensor --pipeline_config_path {YAPILANDIRMA_DOSYASI_YOLU} --trained_checkpoint_prefix {MODEL_DOSYASI_DIZINI}/model.ckpt-{KONTROL_NOKTASI_ON_EKI} --output_directory {CIKTI_DIZINI}\n",
        "\n",
        "# if SONRAKI_EGITIME_HAZIRLA:\n",
        "#   !rm -rf \"pre_trained_model\"\n",
        "#   !mv \"{CIKTI_DIZINI}\" \"pre_trained_model\"\n",
        "\n",
        "%cd /content"
      ],
      "execution_count": 0,
      "outputs": []
    },
    {
      "cell_type": "markdown",
      "metadata": {
        "id": "3CTfOdHMhpwi",
        "colab_type": "text"
      },
      "source": [
        "## Test Aşamasındaki İşlemler"
      ]
    },
    {
      "cell_type": "markdown",
      "metadata": {
        "id": "RcKcR5D3POu-",
        "colab_type": "text"
      },
      "source": [
        "###  Çalışma Ortamının Hazırlanması\n",
        "\n",
        "Yapılandırma dosyasında belirtilmesi lazım recordların yolunun."
      ]
    },
    {
      "cell_type": "code",
      "metadata": {
        "id": "M6uKYB0u8Da0",
        "colab_type": "code",
        "colab": {}
      },
      "source": [
        "#@title Eğitilecek Modeli Tensorflow Zoo'dan İndirme ve Konumlandırma { display-mode: \"form\" }\n",
        "MODEL_URL = \"http://download.tensorflow.org/models/object_detection/ssdlite_mobilenet_v2_coco_2018_05_09.tar.gz\" #@param {type:\"string\"}\n",
        "KONUM_YOLU = \"content/gdrive/My Drive/Sim Model/pre_trained_model\" #@param {type:\"string\"}\n",
        "TEMIZ_TASIMA = True #@param {type:\"boolean\"}\n",
        "\n",
        "%cd \"/content\"\n",
        "!wget \"{MODEL_URL}\" # Modeli indirme\n",
        "\n",
        "model_name = MODEL_URL.split('/').pop()\n",
        "!tar xvzf \"/content/{model_name}\" # Zip'den çıkarma\n",
        "\n",
        "\n",
        "!rm -rf \"/content/{model_name}\" # Zip'i silme\n",
        "!rm -rf \"/{KONUM_YOLU}\" if TEMIZ_TASIMA else pass # Eskisini silme\n",
        "\n",
        "model_bare_name = model_name.split('.tar.gz')[0]\n",
        "!mv \"/content/{model_bare_name}\" \"/{KONUM_YOLU}\" # Taşıma\n",
        "print(\"Kod tamamlanmıştır. (YEmreAk)\")\n"
      ],
      "execution_count": 0,
      "outputs": []
    },
    {
      "cell_type": "code",
      "metadata": {
        "id": "6YLiq-H3PTxE",
        "colab_type": "code",
        "colab": {}
      },
      "source": [
        "#@title Model Dosyaları İndirici { display-mode: \"form\" }\n",
        "#@markdown > ***Yüksek boyutlu dosyalarda hata vermekte***\n",
        "LABEL_MAP_PBTXT_URL = \"https://drive.google.com/open?id=1yma4e7GMmxdKNsD6uKTnC1s1rAem3vOY\"  # @param {type:\"string\"}\n",
        "TRAIN_RECORD_URL = \"https://drive.google.com/uc?export=download&confirm=SXjU&id=1jFE1adOYpKfxRskPnUMR3umvDcY2Nz_y\"  # @param {type:\"string\"}\n",
        "TEST_RECORD_URL = \"https://drive.google.com/uc?export=download&confirm=oqvZ&id=1nl7a5-Fhw8q1OMYfEUNjeAfkH-Z1Y4Rz\"  # @param {type:\"string\"}\n",
        "CONFIG_FILE_URL = \"https://drive.google.com/open?id=11USMBxsejlSJGu7RND9AjFMConp4YadJ\"  # @param {type:\"string\"}\n",
        "PRE_TRAINED_MODEL_URL = \"http://download.tensorflow.org/models/object_detection/ssd_mobilenet_v2_coco_2018_03_29.tar.gz\"  # @param {type:\"string\"}\n",
        "TEMIZ_TASIMA = True #@param {type:\"boolean\"}\n",
        "\n",
        "def fix_drive_url(url):\n",
        "  if \"drive.google.com/open?\" in url:\n",
        "    return url.replace(r\"open?\", r\"uc?export=download&\")\n",
        "\n",
        "!wget -O label_map.pbtxt \"{fix_drive_url(LABEL_MAP_PBTXT_URL)}\"\n",
        "!wget -O train.record \"{fix_drive_url(TRAIN_RECORD_URL)}\"\n",
        "!wget -O test.record \"{fix_drive_url(TEST_RECORD_URL)}\"\n",
        "!wget -O model_pipeline.config \"{fix_drive_url(CONFIG_FILE_URL)}\"\n",
        "\n",
        "!wget \"{PRE_TRAINED_MODEL_URL}\" # Modeli indirme\n",
        "\n",
        "model_name = PRE_TRAINED_MODEL_URL.split('/').pop()\n",
        "!tar xvzf \"/content/{model_name}\" # Zip'den çıkarma\n",
        "\n",
        "!rm -rf \"/content/{model_name}\" # Zip'i silme\n",
        "!rm -rf \"/content/pre_trained_model\" if TEMIZ_TASIMA else pass # Eskisini silme\n",
        "\n",
        "model_bare_name = model_name.split('.')[0]\n",
        "!mv \"/content/{model_bare_name}\" \"/content/pre_trained_model\" # Taşıma"
      ],
      "execution_count": 0,
      "outputs": []
    },
    {
      "cell_type": "code",
      "metadata": {
        "id": "bbcj9u4zjBCe",
        "colab_type": "code",
        "colab": {}
      },
      "source": [
        "#@title Temel Dosya İşlemleri { display-mode: \"form\" }\n",
        "DOSYA_YOLU = \"content/custom_ssdlite_mobilenet_v2_coco.config\" #@param {type:\"string\"}\n",
        "ISLEM = \"tasi\" #@param [\"oku\", \"tasi\", \"kopyala\", \"sil\"]\n",
        "TASINACAK_YOL = \"content/gdrive/My Drive/Sim Model/configs/custom_ssdlite_mobilenet_v2_coco.config\" #@param {type:\"string\"}\n",
        "\n",
        "if ISLEM is \"oku\":\n",
        "  !cat \"/{DOSYA_YOLU}\"\n",
        "elif ISLEM is \"tasi\":\n",
        "  !mv \"/{DOSYA_YOLU}\" \"/{TASINACAK_YOL}\"\n",
        "elif ISLEM is \"kopyala\":\n",
        "  !cp \"/{DOSYA_YOLU}\" \"/{TASINACAK_YOL}\"\n",
        "elif ISLEM is \"sil\":\n",
        "  !rm -rf \"/{DOSYA_YOLU}\"\n",
        "  \n",
        "print(\"Kod tamamlanmıştır. ~YEmreAk\")\n"
      ],
      "execution_count": 0,
      "outputs": []
    },
    {
      "cell_type": "code",
      "metadata": {
        "id": "9dwmM4xni7pK",
        "colab_type": "code",
        "cellView": "form",
        "colab": {}
      },
      "source": [
        "#@title Hatalı Resim Bulucu\n",
        "SCRIPT_YOLU = \"content/check_images.py\" #@param {type:\"string\"}\n",
        "RESIMLERIN_YOLU = \"\" #@param {type:\"string\"}\n",
        "\n",
        "\n",
        "!unrar e \"/content/images.rar\" \"/content/images\" # Zip'den çıkarma\n",
        "# !python \"/{SCRIPT_YOLU}\" -i \n"
      ],
      "execution_count": 0,
      "outputs": []
    },
    {
      "cell_type": "markdown",
      "metadata": {
        "id": "CSSYb76qPWiD",
        "colab_type": "text"
      },
      "source": [
        "## Kernel'ı sıfırlama (İsteğe Bağlı)"
      ]
    },
    {
      "cell_type": "code",
      "metadata": {
        "id": "JorlVqBySZ7o",
        "colab_type": "code",
        "colab": {}
      },
      "source": [
        "!kill -9 -1"
      ],
      "execution_count": 0,
      "outputs": []
    },
    {
      "cell_type": "markdown",
      "metadata": {
        "colab_type": "text",
        "id": "0ZswBfsvl3R7"
      },
      "source": [
        "## Geliştirici Alanı\n",
        "\n",
        "**Bu alandaki bilgiler kendim için alınmış notları barındırır.**\n",
        "\n",
        "Sorun durumunda model dizinine drive üzerinden girip `pre_trained_model` klasörünü indirin"
      ]
    },
    {
      "cell_type": "code",
      "metadata": {
        "colab_type": "code",
        "cellView": "form",
        "id": "7fa1OGuIl3R2",
        "colab": {}
      },
      "source": [
        "#@title Sonuç İndirme Arayüzü\n",
        "INDIRILECEK_DIZININ_YOLU = \"content/gdrive/My Drive/Projects/Model/pre_trained_model\" #@param {type:\"string\"}\n",
        "\n",
        "from google.colab import files\n",
        "\n",
        "# Dizin adını alma\n",
        "folder_name = INDIRILECEK_DIZININ_YOLU.split('/').pop()\n",
        "\n",
        "# Gerekli dosyaları oluşturma\n",
        "!cp -r \"/{INDIRILECEK_DIZININ_YOLU}\" \"/content\"\n",
        "!zip -r '{folder_name}.zip'  \"{folder_name}\"\n",
        "\n",
        "# İndirme işlemini başlatma\n",
        "files.download(f'{folder_name}.zip')\n",
        "\n",
        "# Geçici dosyaları temizleme\n",
        "!rm -rf '{folder_name}.zip'\n",
        "!rm -rf '{folder_name}'\n"
      ],
      "execution_count": 0,
      "outputs": []
    },
    {
      "cell_type": "code",
      "metadata": {
        "id": "h6q10Am8nMYf",
        "colab_type": "code",
        "colab": {}
      },
      "source": [
        "# !ls\n",
        "# !cat \"/content/gdrive/My Drive/Sim Model/configs/ssd_mobilenet_v2_coco.config\"\n",
        "# !rm -f /content/gdrive/My Drive/Sim Model/train.py\n",
        "# !mv \"/content/train.py\" \"/content/gdrive/My Drive/Sim Model/train.py\""
      ],
      "execution_count": 0,
      "outputs": []
    },
    {
      "cell_type": "code",
      "metadata": {
        "id": "lBT4P_DsI-oG",
        "colab_type": "code",
        "colab": {}
      },
      "source": [
        "# !wget \"http://download.tensorflow.org/models/object_detection/ssdlite_mobilenet_v2_coco_2018_05_09.tar.gz\"\n",
        "# !tar xvzf \"/content/ssdlite_mobilenet_v2_coco_2018_05_09.tar.gz\"\n",
        "# !rm -rf \"/content/ssdlite_mobilenet_v2_coco_2018_05_09.tar.gz\"\n",
        "!mv \"/content/ssd_mobilenet_v2_coco.config\" \"/content/gdrive/My Drive/Sim Model/configs/ssd_mobilenet_v2_coco.config\"\n",
        "!cat \"/content/gdrive/My Drive/Sim Model/configs/ssd_mobilenet_v2_coco.config\""
      ],
      "execution_count": 0,
      "outputs": []
    },
    {
      "cell_type": "markdown",
      "metadata": {
        "id": "smbQTuqAZpgd",
        "colab_type": "text"
      },
      "source": [
        "### Obje Algılama Modelini Eğitme (Kullanım Dışı)\n",
        "\n",
        "Modelin eğitimi `train.py` script dosyası ile yapılamktadır."
      ]
    },
    {
      "cell_type": "markdown",
      "metadata": {
        "id": "U9h-26MnULzn",
        "colab_type": "text"
      },
      "source": [
        "### Tensorflow 2.0 için (Deneysel Kısım)"
      ]
    },
    {
      "cell_type": "markdown",
      "metadata": {
        "id": "liLd3U0ZVZiM",
        "colab_type": "text"
      },
      "source": [
        "### Modeli TensorBoard Üzerinde İzleme (Deneysel)\n",
        "\n",
        "TensorBoard arayüzü görsellik ve anlaşılabilirlik açısından oldukça faydalıdır.\n",
        "\n",
        "\n",
        "> **Bilgi sahibi değilseniz bu adımı ve alt adımlarını uygulamayın**\n",
        ">\n",
        "> **AttributeError: module 'tensorflow' has no attribute 'contrib hatasına sebep oluyor is VM'i sıfırlayın** \n",
        "```py\n",
        "kill -9 -1\n",
        "```"
      ]
    },
    {
      "cell_type": "markdown",
      "metadata": {
        "id": "atdo22-j8Qib",
        "colab_type": "text"
      },
      "source": [
        "#### Kernel Sıfırlama"
      ]
    },
    {
      "cell_type": "code",
      "metadata": {
        "id": "vgaP8KnQ51lh",
        "colab_type": "code",
        "colab": {}
      },
      "source": [
        "!kill -9 -1"
      ],
      "execution_count": 0,
      "outputs": []
    },
    {
      "cell_type": "markdown",
      "metadata": {
        "id": "yahMI3hhVeu1",
        "colab_type": "text"
      },
      "source": [
        "#### Gerekli Eklentinin Kurulumu"
      ]
    },
    {
      "cell_type": "code",
      "metadata": {
        "id": "yggC_AcfT8ZS",
        "colab_type": "code",
        "colab": {}
      },
      "source": [
        "!pip install -q tf-nightly-2.0-preview\n",
        "# Load the TensorBoard notebook extension\n",
        "%load_ext tensorboard.notebook"
      ],
      "execution_count": 0,
      "outputs": []
    },
    {
      "cell_type": "markdown",
      "metadata": {
        "id": "k6RQEzYdVhbd",
        "colab_type": "text"
      },
      "source": [
        "#### Eklenti Yardımıyla TensorBoard Arayüzünü Açma"
      ]
    },
    {
      "cell_type": "code",
      "metadata": {
        "id": "qNd3ZHjuUJJC",
        "colab_type": "code",
        "colab": {}
      },
      "source": [
        "%tensorboard --logdir \"/content/gdrive/My Drive/Projects/Yazılım Ekibi | Otobil/Yunus Emre/Model/training/\""
      ],
      "execution_count": 0,
      "outputs": []
    },
    {
      "cell_type": "markdown",
      "metadata": {
        "id": "A-j_qZ801tsh",
        "colab_type": "text"
      },
      "source": [
        "### Hata Notları\n",
        "\n",
        "- [Allocation of X exceeds 10% of system memory](https://github.com/tensorflow/tensorflow/issues/18736#issuecomment-385976699)\n",
        "- [Allocation of X exceeds 10% of system memory](https://github.com/tensorflow/tensorflow/issues/18736#issuecomment-388709455)"
      ]
    }
  ]
}